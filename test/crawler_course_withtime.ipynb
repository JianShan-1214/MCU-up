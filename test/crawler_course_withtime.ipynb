{
 "cells": [
  {
   "cell_type": "code",
   "execution_count": 1,
   "metadata": {},
   "outputs": [],
   "source": [
    "\"\"\"\n",
    "url_c: course_url\n",
    "\"\"\"\n",
    "url_c = \"https://www.mcu.edu.tw/student/new-query/sel-query/qslist_1.asp\"\n",
    "import requests\n",
    "from bs4 import BeautifulSoup\n",
    "import json\n",
    "import re\n",
    "\n",
    "#sch:校區\n",
    "data = {\"sch\":2, \"dept1\":16}\n",
    "c_res = requests.post(url_c, data=data)\n",
    "c_res.encoding = 'big5-hkscs'\n",
    "c_soup = BeautifulSoup(c_res.text, 'html.parser')\n"
   ]
  },
  {
   "cell_type": "code",
   "execution_count": null,
   "metadata": {},
   "outputs": [],
   "source": []
  },
  {
   "cell_type": "code",
   "execution_count": 2,
   "metadata": {
    "scrolled": true
   },
   "outputs": [
    {
     "data": {
      "text/plain": [
       "['制別',\n",
       " '科目',\n",
       " '班級',\n",
       " '開班／選課人數',\n",
       " '任課教師',\n",
       " '上課日期／節次',\n",
       " '年級',\n",
       " '教室【校區】',\n",
       " '選別',\n",
       " '學分',\n",
       " '類別',\n",
       " '畢業班',\n",
       " '學期數',\n",
       " '說明']"
      ]
     },
     "execution_count": 2,
     "metadata": {},
     "output_type": "execute_result"
    }
   ],
   "source": [
    "c_tr_tags = c_soup.find_all('tr')\n",
    "c_idx_tags = c_tr_tags[0].find_all('td')\n",
    "\n",
    "col_names = []\n",
    "for name in c_idx_tags:\n",
    "    col_names.append(name.text.strip())\n",
    "col_names"
   ]
  },
  {
   "cell_type": "code",
   "execution_count": 22,
   "metadata": {},
   "outputs": [],
   "source": [
    "col_keys = range(len(col_names))"
   ]
  },
  {
   "cell_type": "code",
   "execution_count": 24,
   "metadata": {},
   "outputs": [
    {
     "data": {
      "text/plain": [
       "{0: '制別',\n",
       " 1: '科目',\n",
       " 2: '班級',\n",
       " 3: '開班／選課人數',\n",
       " 4: '任課教師',\n",
       " 5: '上課日期／節次',\n",
       " 6: '年級',\n",
       " 7: '教室【校區】',\n",
       " 8: '選別',\n",
       " 9: '學分',\n",
       " 10: '類別',\n",
       " 11: '畢業班',\n",
       " 12: '學期數',\n",
       " 13: '說明'}"
      ]
     },
     "execution_count": 24,
     "metadata": {},
     "output_type": "execute_result"
    }
   ],
   "source": [
    "data = dict(zip(col_keys,col_names))\n",
    "data"
   ]
  },
  {
   "cell_type": "code",
   "execution_count": 32,
   "metadata": {},
   "outputs": [
    {
     "name": "stdout",
     "output_type": "stream",
     "text": [
      "0 制別\n",
      "1 科目\n",
      "2 班級\n",
      "3 開班／選課人數\n",
      "4 任課教師\n",
      "5 上課日期／節次\n",
      "6 年級\n",
      "7 教室【校區】\n",
      "8 選別\n",
      "9 學分\n",
      "10 類別\n",
      "11 畢業班\n",
      "12 學期數\n",
      "13 說明\n"
     ]
    }
   ],
   "source": [
    "for d in data:\n",
    "    print(d, data[d])"
   ]
  },
  {
   "cell_type": "code",
   "execution_count": 7,
   "metadata": {},
   "outputs": [],
   "source": [
    "col_names = ['制別', '科目', '班級', '開班／選課人數', '任課教師', '上課日期／節次', '年級', '教室【校區】', '選別', '學分', '類別', '畢業班', '學期數', '說明']"
   ]
  },
  {
   "cell_type": "code",
   "execution_count": 13,
   "metadata": {},
   "outputs": [
    {
     "data": {
      "text/plain": [
       "['制別',\n",
       " '科目',\n",
       " '班級',\n",
       " '開班／選課人數',\n",
       " '任課教師',\n",
       " '上課日期／節次',\n",
       " '年級',\n",
       " '教室【校區】',\n",
       " '選別',\n",
       " '學分',\n",
       " '類別',\n",
       " '畢業班',\n",
       " '學期數',\n",
       " '說明']"
      ]
     },
     "execution_count": 13,
     "metadata": {},
     "output_type": "execute_result"
    }
   ],
   "source": [
    "col_names"
   ]
  },
  {
   "cell_type": "code",
   "execution_count": 64,
   "metadata": {},
   "outputs": [
    {
     "data": {
      "text/plain": [
       "'制別'"
      ]
     },
     "execution_count": 64,
     "metadata": {},
     "output_type": "execute_result"
    }
   ],
   "source": [
    "col_names[0]"
   ]
  },
  {
   "cell_type": "code",
   "execution_count": null,
   "metadata": {},
   "outputs": [],
   "source": []
  },
  {
   "cell_type": "code",
   "execution_count": null,
   "metadata": {},
   "outputs": [],
   "source": []
  },
  {
   "cell_type": "code",
   "execution_count": 382,
   "metadata": {},
   "outputs": [
    {
     "name": "stdout",
     "output_type": "stream",
     "text": [
      "fmt diff: 16151\n",
      "fmt diff: 16152\n",
      "fmt diff: 16251\n",
      "fmt diff: 16252\n",
      "fmt diff: 16253\n",
      "fmt diff: 16351\n",
      "fmt diff: 16352\n",
      "fmt diff: 16353\n",
      "fmt diff: 16354\n",
      "fmt diff: 16355\n",
      "fmt diff: 16356\n",
      "fmt diff: 16357\n",
      "fmt diff: 16358\n",
      "fmt diff: 16451\n",
      "fmt diff: 16551\n",
      "fmt diff: 16552\n",
      "fmt diff: 16553\n"
     ]
    }
   ],
   "source": [
    "course_data = []\n",
    "for couse_tags in c_tr_tags[1:]:\n",
    "    course_obj = {}\n",
    "    i=0\n",
    "    for c_col in couse_tags.find_all('td'):\n",
    "        write_data = c_col.text.strip()\n",
    "        if col_names[i] == \"上課日期／節次\":\n",
    "            course_obj[ col_names[i] ] = clean_class_fmt(write_data)\n",
    "        elif col_names[i] in [\"班級\",\"科目\"]:\n",
    "            course_obj[ col_names[i] ] = clean_space(write_data)\n",
    "        else:\n",
    "            course_obj[ col_names[i] ] = write_data\n",
    "        i+=1\n",
    "    course_data.append(course_obj)"
   ]
  },
  {
   "cell_type": "code",
   "execution_count": 371,
   "metadata": {},
   "outputs": [],
   "source": [
    "def clean_class_fmt(class_string):\n",
    "    ans = []\n",
    "    if \"\\xa0\" in class_string:\n",
    "        l_split = class_string.split(\"\\xa0\")\n",
    "        for s in l_split:\n",
    "            data = s.replace(\" \", \"\").replace(\"節\",\"\").replace(\"星期\",\"\").split(\":\")\n",
    "            ans.append({\"d\":data[0],\"t\":data[1]})\n",
    "    else:\n",
    "        data = class_string.replace(\" \", \"\").replace(\"節\",\"\").replace(\"星期\",\"\").split(\":\")\n",
    "        ans.append({\"d\":data[0],\"t\":data[1]})\n",
    "    return ans\n",
    "def clean_space(class_string):\n",
    "    data = class_string.split(\" \")\n",
    "    try:\n",
    "        ans = {\"id\":data[0],\"name\":data[1]}\n",
    "    except:\n",
    "        ans = {\"id\":data[0]}\n",
    "        print(\"fmt diff:\", class_string)\n",
    "    return ans\n",
    "    "
   ]
  },
  {
   "cell_type": "code",
   "execution_count": 363,
   "metadata": {},
   "outputs": [
    {
     "data": {
      "text/plain": [
       "{'id': '16101', 'name': '資傳一甲'}"
      ]
     },
     "execution_count": 363,
     "metadata": {},
     "output_type": "execute_result"
    }
   ],
   "source": [
    "clean_space(\"16101 資傳一甲\")"
   ]
  },
  {
   "cell_type": "code",
   "execution_count": null,
   "metadata": {},
   "outputs": [],
   "source": []
  },
  {
   "cell_type": "code",
   "execution_count": 364,
   "metadata": {},
   "outputs": [
    {
     "data": {
      "text/plain": [
       "<pymongo.results.InsertManyResult at 0x7f6d44053c08>"
      ]
     },
     "execution_count": 364,
     "metadata": {},
     "output_type": "execute_result"
    }
   ],
   "source": [
    "import pymongo\n",
    "\n",
    "db_client = pymongo.MongoClient(\"mongodb://localhost:27017/\")\n",
    "if 'MCU_CourseDBdb' not in myclient.list_database_names():\n",
    "    mydb = db_client[\"MCU_CourseDB\"]\n",
    "mycol = mydb[\"courses\"]\n",
    "\n",
    "if \"courses\" in mydb.list_collection_names():\n",
    "    mycol.drop()\n",
    "mycol.insert_many(course_data)"
   ]
  },
  {
   "cell_type": "code",
   "execution_count": 383,
   "metadata": {},
   "outputs": [
    {
     "name": "stdout",
     "output_type": "stream",
     "text": [
      "{'_id': ObjectId('5fe754eaa56d9763531e5132'), '制別': '大學部', '科目': {'id': '00121', 'name': '體育（壹）'}, '班級': {'id': '16101', 'name': '資傳一甲'}, '開班／選課人數': '75／70', '任課教師': '正課: 歐正聰', '上課日期／節次': [{'d': '1', 't': '0506'}], '年級': '1', '教室【校區】': '體育【 桃園】', '選別': '必修', '學分': '0', '類別': '', '畢業班': 'N', '學期數': '上學期', '說明': ''} \n",
      "\n",
      "{'_id': ObjectId('5fe754eaa56d9763531e5133'), '制別': '大學部', '科目': {'id': '00997', 'name': '班會'}, '班級': {'id': '16101', 'name': '資傳一甲'}, '開班／選課人數': '75／53', '任課教師': '正課: 李宇昇', '上課日期／節次': [{'d': '5', 't': '01'}], '年級': '1', '教室【校區】': 'S107【 桃園】', '選別': '必修', '學分': '0', '類別': '', '畢業班': 'N', '學期數': '全學年', '說明': ''} \n",
      "\n",
      "{'_id': ObjectId('5fe754eaa56d9763531e5134'), '制別': '大學部', '科目': {'id': '00999', 'name': '週會'}, '班級': {'id': '16101', 'name': '資傳一甲'}, '開班／選課人數': '70／53', '任課教師': ':', '上課日期／節次': [{'d': '5', 't': '05'}], '年級': '1', '教室【校區】': '【 桃園】', '選別': '必修', '學分': '0', '類別': '', '畢業班': 'N', '學期數': '全學年', '說明': ''} \n",
      "\n"
     ]
    }
   ],
   "source": [
    "datas = mycol.find({}).limit(3)\n",
    "for d in datas:\n",
    "    print(d,\"\\n\")"
   ]
  },
  {
   "cell_type": "code",
   "execution_count": 402,
   "metadata": {},
   "outputs": [
    {
     "name": "stdout",
     "output_type": "stream",
     "text": [
      "{'_id': ObjectId('5fe754eaa56d9763531e5139'), '制別': '大學部', '科目': {'id': '16116', 'name': '資訊概論'}, '班級': {'id': '16101', 'name': '資傳一甲'}, '開班／選課人數': '75／75', '任課教師': '正課: 共同指導', '上課日期／節次': [{'d': '2', 't': '05'}], '年級': '1', '教室【校區】': 'S107【 桃園】', '選別': '必修', '學分': '1', '類別': '', '畢業班': 'N', '學期數': '上學期', '說明': ''} \n",
      "\n",
      "{'_id': ObjectId('5fe754eaa56d9763531e5149'), '制別': '大學部', '科目': {'id': '00997', 'name': '班會'}, '班級': {'id': '16201', 'name': '資傳二甲'}, '開班／選課人數': '75／43', '任課教師': '正課: 陳惠惠', '上課日期／節次': [{'d': '2', 't': '05'}], '年級': '2', '教室【校區】': 'S106【 桃園】', '選別': '必修', '學分': '0', '類別': '', '畢業班': 'N', '學期數': '全學年', '說明': ''} \n",
      "\n"
     ]
    }
   ],
   "source": [
    "datas = mycol.find({\"$and\":[{\"上課日期／節次.d\":\"2\"},{\"上課日期／節次.t\":\"05\"}]}).limit(3)\n",
    "for d in datas:\n",
    "    print(d,\"\\n\")"
   ]
  },
  {
   "cell_type": "markdown",
   "metadata": {},
   "source": [
    "\n",
    "class_obj\n",
    "    course_id\n",
    "    class_id\n",
    "    time"
   ]
  }
 ],
 "metadata": {
  "kernelspec": {
   "display_name": "Python 3",
   "language": "python",
   "name": "python3"
  },
  "language_info": {
   "codemirror_mode": {
    "name": "ipython",
    "version": 3
   },
   "file_extension": ".py",
   "mimetype": "text/x-python",
   "name": "python",
   "nbconvert_exporter": "python",
   "pygments_lexer": "ipython3",
   "version": "3.7.7"
  }
 },
 "nbformat": 4,
 "nbformat_minor": 4
}
